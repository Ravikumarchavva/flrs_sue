{
 "cells": [
  {
   "cell_type": "code",
   "execution_count": null,
   "metadata": {},
   "outputs": [
    {
     "ename": "",
     "evalue": "",
     "output_type": "error",
     "traceback": [
      "\u001b[1;31mRunning cells with 'flrs (Python 3.9.21)' requires the ipykernel package.\n",
      "\u001b[1;31mRun the following command to install 'ipykernel' into the Python environment. \n",
      "\u001b[1;31mCommand: 'conda install -n flrs ipykernel --update-deps --force-reinstall'"
     ]
    }
   ],
   "source": [
    "from pycaret.classification import *\n",
    "import pandas as pd\n",
    "\n",
    "# Example dataset\n",
    "data = pd.read_csv('dataset.csv')\n",
    "clf = setup(data, target='churn', silent=True, html=False)"
   ]
  },
  {
   "cell_type": "code",
   "execution_count": null,
   "metadata": {},
   "outputs": [],
   "source": [
    "# Train models and get performance metrics\n",
    "best_model = compare_models()\n",
    "results = pull()  # Pull the performance table\n",
    "results_json = results.to_json(orient='split')  # Convert to JSON"
   ]
  }
 ],
 "metadata": {
  "kernelspec": {
   "display_name": "flrs",
   "language": "python",
   "name": "python3"
  },
  "language_info": {
   "codemirror_mode": {
    "name": "ipython",
    "version": 3
   },
   "file_extension": ".py",
   "mimetype": "text/x-python",
   "name": "python",
   "nbconvert_exporter": "python",
   "pygments_lexer": "ipython3",
   "version": "3.9.21"
  }
 },
 "nbformat": 4,
 "nbformat_minor": 2
}
